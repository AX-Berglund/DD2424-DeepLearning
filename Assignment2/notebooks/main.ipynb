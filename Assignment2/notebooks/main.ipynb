{
 "cells": [
  {
   "cell_type": "code",
   "execution_count": 82,
   "metadata": {},
   "outputs": [],
   "source": [
    "import sys\n",
    "import os\n",
    "import numpy as np\n",
    "import pickle\n"
   ]
  },
  {
   "cell_type": "markdown",
   "metadata": {},
   "source": [
    "### Add src directory"
   ]
  },
  {
   "cell_type": "code",
   "execution_count": 22,
   "metadata": {},
   "outputs": [],
   "source": [
    "# current path is /Users/axhome/AX/MASTER/Courses/DD2424/DD2424-DeepLearning/Assignment1/notebooks\n",
    "# we want to add the path /Users/axhome/AX/MASTER/Courses/DD2424/DD2424-DeepLearning/Assignment1/src\n",
    "\n",
    "# add the path to the sys.path\n",
    "# sys.path.append('/Users/axhome/AX/MASTER/Courses/DD2424/DD2424-DeepLearning/Assignment1/src')\n",
    "# or use os.path.abspath\n",
    "sys.path.append(os.path.abspath(\"../src\"))\n"
   ]
  },
  {
   "cell_type": "markdown",
   "metadata": {},
   "source": [
    "### Import functions from src files"
   ]
  },
  {
   "cell_type": "code",
   "execution_count": 23,
   "metadata": {},
   "outputs": [],
   "source": [
    "from data_loader import LoadBatch\n",
    "from preprocessing import reshape_images, normalize_images\n",
    "from torch_gradient_computations import ComputeGradsWithTorch\n",
    "\n"
   ]
  },
  {
   "cell_type": "markdown",
   "metadata": {},
   "source": [
    "# Exercise 1 - Read in the data & initialize the parameters of the network"
   ]
  },
  {
   "cell_type": "markdown",
   "metadata": {},
   "source": [
    "### Load Batch Function"
   ]
  },
  {
   "cell_type": "code",
   "execution_count": 24,
   "metadata": {},
   "outputs": [],
   "source": [
    "\n",
    "def LoadBatch(batch_id, dtype=np.float64):\n",
    "    \"\"\"\n",
    "    Load a CIFAR-10 batch file and return image data, one-hot labels, and raw labels.\n",
    "\n",
    "    Parameters:\n",
    "        filename (str): Path to the CIFAR-10 batch file.\n",
    "        dtype (type): Data type for image and one-hot encoded label arrays (float32 or float64).\n",
    "\n",
    "    Returns:\n",
    "        X (numpy.ndarray): Image data of shape (3072, 10000), type float32/float64, values in [0,1].\n",
    "        Y (numpy.ndarray): One-hot encoded labels of shape (10, 10000), type float32/float64.\n",
    "        y (numpy.ndarray): Label vector of shape (10000,), type int (values 0-9).\n",
    "    \"\"\"\n",
    "\n",
    "    cifar10_path = \"/Users/axhome/AX/MASTER/Courses/DD2424/DD2424-DeepLearning/Assignment2/data/cifar-10/cifar-10-batches-py\"\n",
    "    # Construct full file path\n",
    "    ## if batch_id is string\n",
    "    if isinstance(batch_id, str):\n",
    "        batch_file = os.path.join(cifar10_path, batch_id)\n",
    "    else:   \n",
    "        batch_file = os.path.join(cifar10_path, f\"data_batch_{batch_id}\")\n",
    "    \n",
    "    # Load the CIFAR-10 batch file\n",
    "    with open(batch_file, 'rb') as file:\n",
    "        batch = pickle.load(file, encoding='bytes')\n",
    "\n",
    "    # Extract image data and labels\n",
    "    images = batch[b'data']  # Shape (10000, 3072)\n",
    "    labels = np.array(batch[b'labels'])  # Shape (10000,)\n",
    "\n",
    "    # Convert image data to float and normalize to [0,1]\n",
    "    X = images.astype(dtype) / 255.0  # Shape (10000, 3072)\n",
    "\n",
    "    # Transpose X to match required shape (3072, 10000)\n",
    "    X = X.T  # Shape (3072, 10000)\n",
    "\n",
    "    # Convert labels to one-hot encoding\n",
    "    K = 10  # Number of classes in CIFAR-10\n",
    "    Y = np.zeros((K, X.shape[1]), dtype=dtype)  # Shape (10, 10000)\n",
    "    Y[labels, np.arange(X.shape[1])] = 1  # Assign 1s for correct labels\n",
    "\n",
    "    # Return X (3072×10000), Y (10×10000), y (10000,)\n",
    "\n",
    "    # make sure labels are (1x10000)\n",
    "    labels = labels.reshape(1, len(labels))\n",
    "\n",
    "    return X, Y, labels\n",
    "\n",
    "def preprocessData(X_train_raw, X_val_raw, X_test_raw):\n",
    "    \"\"\"\n",
    "    Normalizes the dataset based on training set mean and standard deviation.\n",
    "    \n",
    "    Parameters:\n",
    "      X_train_raw, X_val_raw, X_test_raw: Raw data matrices\n",
    "    \n",
    "    Returns:\n",
    "      X_train, X_val, X_test: Normalized datasets\n",
    "    \"\"\"\n",
    "    X_train_mean = np.mean(X_train_raw, axis=1, keepdims=True)\n",
    "    X_train_std = np.std(X_train_raw, axis=1, keepdims=True)\n",
    "\n",
    "    X_train = (X_train_raw - X_train_mean) / X_train_std\n",
    "    X_val = (X_val_raw - X_train_mean) / X_train_std\n",
    "    X_test = (X_test_raw - X_train_mean) / X_train_std\n",
    "\n",
    "    return X_train, X_val, X_test\n",
    "\n",
    "\n",
    "def initialize_parameters(d, m, K, seed=42):\n",
    "    \"\"\"\n",
    "    Initializes the parameters for a two-layer neural network with reproducible randomness.\n",
    "    \n",
    "    Args:\n",
    "    - d (int): Input dimension\n",
    "    - m (int): Number of hidden nodes\n",
    "    - K (int): Number of output classes\n",
    "    - seed (int): Random seed for reproducibility (default: 42)\n",
    "    \n",
    "    Returns:\n",
    "    - net_params (dict): Dictionary containing initialized weights and biases\n",
    "    \"\"\"\n",
    "    # Random number generator with a fixed seed\n",
    "    rng = np.random.default_rng(seed)\n",
    "    BitGen = type(rng.bit_generator)\n",
    "    rng.bit_generator.state = BitGen(seed).state\n",
    "\n",
    "    net_params = {}\n",
    "    net_params['W'] = [None] * 2  # Two layers\n",
    "    net_params['b'] = [None] * 2  # Two layers\n",
    "    \n",
    "    # Random initialization with appropriate standard deviation\n",
    "    net_params['W'][0] = rng.standard_normal(size=(m, d)) / np.sqrt(d)  # First layer\n",
    "    net_params['b'][0] = np.zeros((m, 1))  # First layer bias\n",
    "    \n",
    "    net_params['W'][1] = rng.standard_normal(size=(K, m)) / np.sqrt(m)  # Second layer\n",
    "    net_params['b'][1] = np.zeros((K, 1))  # Second layer bias\n",
    "    \n",
    "    return net_params\n"
   ]
  },
  {
   "cell_type": "markdown",
   "metadata": {},
   "source": [
    "### Load Data"
   ]
  },
  {
   "cell_type": "code",
   "execution_count": 25,
   "metadata": {},
   "outputs": [],
   "source": [
    "X_train_raw, Y_train, y_train = LoadBatch(1)\n",
    "X_val_raw, Y_val, y_val = LoadBatch(2)\n",
    "X_test_raw, Y_test, y_test = LoadBatch(\"test_batch\")\n",
    "\n",
    "X_train, X_val, X_test = preprocessData(X_train_raw, X_val_raw, X_test_raw)"
   ]
  },
  {
   "cell_type": "code",
   "execution_count": 26,
   "metadata": {},
   "outputs": [
    {
     "name": "stdout",
     "output_type": "stream",
     "text": [
      "W[0] shape: (50, 3072), b[0] shape: (50, 1)\n",
      "W[1] shape: (10, 50), b[1] shape: (10, 1)\n"
     ]
    }
   ],
   "source": [
    "# Initialize the parameters of the network\n",
    "d = 3072  # CIFAR-10 images are 32x32x3\n",
    "m = 50    # Hidden layer size\n",
    "K = 10    # Number of classes\n",
    "\n",
    "net_params = initialize_parameters(d, m, K)\n",
    "\n",
    "# Print shape of initialized parameters to verify\n",
    "for i in range(2):\n",
    "    print(f\"W[{i}] shape: {net_params['W'][i].shape}, b[{i}] shape: {net_params['b'][i].shape}\")\n"
   ]
  },
  {
   "cell_type": "markdown",
   "metadata": {},
   "source": [
    "## Exercise 2 - Compute the gradients for the network parameters"
   ]
  },
  {
   "cell_type": "markdown",
   "metadata": {},
   "source": [
    "### Test on a mini-batch "
   ]
  },
  {
   "cell_type": "code",
   "execution_count": 27,
   "metadata": {},
   "outputs": [
    {
     "data": {
      "text/plain": [
       "(10, 10000)"
      ]
     },
     "execution_count": 27,
     "metadata": {},
     "output_type": "execute_result"
    }
   ],
   "source": [
    "Y_train.shape"
   ]
  },
  {
   "cell_type": "code",
   "execution_count": 28,
   "metadata": {},
   "outputs": [],
   "source": [
    "# Small test case\n",
    "d_small = 5\n",
    "n_small = 3\n",
    "m_small = 6\n",
    "K = 10\n",
    "lam = 0\n",
    "\n",
    "# Set up small network\n",
    "rng = np.random.default_rng(42)\n",
    "\n",
    "small_net = initialize_parameters(d_small, m_small, K)\n",
    "\n",
    "# Generate small dataset\n",
    "X_small = X_train[:d_small, :n_small]\n",
    "Y_small = Y_train[:K, :n_small]\n",
    "y_small = y_train[0, :n_small]\n"
   ]
  },
  {
   "cell_type": "code",
   "execution_count": 29,
   "metadata": {},
   "outputs": [
    {
     "data": {
      "text/plain": [
       "(10, 3)"
      ]
     },
     "execution_count": 29,
     "metadata": {},
     "output_type": "execute_result"
    }
   ],
   "source": [
    "Y_small.shape"
   ]
  },
  {
   "cell_type": "code",
   "execution_count": 30,
   "metadata": {},
   "outputs": [],
   "source": [
    "small_net_test = initialize_parameters(d_small, m_small, K)\n"
   ]
  },
  {
   "cell_type": "code",
   "execution_count": 31,
   "metadata": {},
   "outputs": [],
   "source": [
    "for key in small_net_test:\n",
    "    for i in range(len(small_net_test[key])):\n",
    "        assert np.allclose(small_net_test[key][i], small_net[key][i]), f\"{key}[{i}] in small_net_test and small_net are not the same!\""
   ]
  },
  {
   "cell_type": "code",
   "execution_count": null,
   "metadata": {},
   "outputs": [],
   "source": []
  },
  {
   "cell_type": "code",
   "execution_count": 32,
   "metadata": {},
   "outputs": [
    {
     "data": {
      "text/plain": [
       "(5, 3)"
      ]
     },
     "execution_count": 32,
     "metadata": {},
     "output_type": "execute_result"
    }
   ],
   "source": [
    "X_small.shape"
   ]
  },
  {
   "cell_type": "markdown",
   "metadata": {},
   "source": [
    "### Forward Pass Function"
   ]
  },
  {
   "cell_type": "code",
   "execution_count": 33,
   "metadata": {},
   "outputs": [],
   "source": [
    "def ApplyNetwork(X, network):\n",
    "    \"\"\"\n",
    "    Performs the forward pass through the two-layer network.\n",
    "    \n",
    "    Args:\n",
    "    - X: (d, N) Input data, where d is the feature dimension and N is the batch size.\n",
    "    - network: Dictionary containing model parameters:\n",
    "        - 'W': List with W1 (m, d) and W2 (K, m)\n",
    "        - 'b': List with b1 (m, 1) and b2 (K, 1)\n",
    "    \n",
    "    Returns:\n",
    "    - fp_data: Dictionary containing intermediate and final activations:\n",
    "        - 's1': Pre-activation of hidden layer\n",
    "        - 'h': Activation after ReLU\n",
    "        - 's': Pre-softmax scores\n",
    "        - 'p': Softmax probabilities\n",
    "    \"\"\"\n",
    "    W1, W2 = network['W']\n",
    "    b1, b2 = network['b']\n",
    "\n",
    "    # Compute first layer activations\n",
    "    s1 = W1 @ X + b1  # (m, N)\n",
    "    h = np.maximum(0, s1)  # ReLU activation (m, N)\n",
    "\n",
    "    # Compute second layer activations\n",
    "    s = W2 @ h + b2  # (K, N)\n",
    "\n",
    "    # Softmax activation\n",
    "    exp_s = np.exp(s - np.max(s, axis=0, keepdims=True))  # Prevent overflow\n",
    "    p = exp_s / np.sum(exp_s, axis=0, keepdims=True)  # (K, N)\n",
    "\n",
    "    # Store forward pass data for backpropagation\n",
    "    fp_data = {\n",
    "        's1': s1,\n",
    "        'h': h,\n",
    "        's': s,\n",
    "        'p': p\n",
    "    }\n",
    "\n",
    "    return fp_data\n"
   ]
  },
  {
   "cell_type": "code",
   "execution_count": null,
   "metadata": {},
   "outputs": [],
   "source": []
  },
  {
   "cell_type": "markdown",
   "metadata": {},
   "source": [
    "### Backward Pass Function"
   ]
  },
  {
   "cell_type": "code",
   "execution_count": 58,
   "metadata": {},
   "outputs": [],
   "source": [
    "def BackwardPass(X, Y, fp_data, network, lam):\n",
    "    \"\"\"\n",
    "    Computes gradients for the two-layer network via backpropagation.\n",
    "\n",
    "    Args:\n",
    "    - X: (d, N) Input data.\n",
    "    - Y: (K, N) One-hot ground truth labels.\n",
    "    - fp_data: Dictionary containing forward pass values:\n",
    "        - 's1': Pre-activation of hidden layer\n",
    "        - 'h': Activation after ReLU\n",
    "        - 's': Pre-softmax scores\n",
    "        - 'p': Softmax probabilities\n",
    "    - network: Dictionary containing model parameters:\n",
    "        - 'W': List with W1 (m, d) and W2 (K, m)\n",
    "        - 'b': List with b1 (m, 1) and b2 (K, 1)\n",
    "    - lam: Regularization coefficient.\n",
    "\n",
    "    Returns:\n",
    "    - grads: Dictionary containing gradients for W1, W2, b1, and b2.\n",
    "    \"\"\"\n",
    "    W1, W2 = network['W']\n",
    "    b1, b2 = network['b']\n",
    "    p, h, s1 = fp_data['p'], fp_data['h'], fp_data['s1']\n",
    "    N = X.shape[1]  # Batch size\n",
    "\n",
    "    # Compute gradient of the loss w.r.t. s (logits)\n",
    "    G = p - Y  # (K, N)\n",
    "\n",
    "    # Compute gradients for W2 and b2\n",
    "    grad_W2 = (1 / N) * (G @ h.T) + 2 * lam * W2  # (K, m)\n",
    "    grad_b2 = (1 / N) * np.sum(G, axis=1, keepdims=True)  # (K, 1)\n",
    "\n",
    "    # Backpropagate through ReLU: gradient w.r.t. s1\n",
    "    G_hidden = W2.T @ G  # (m, N)\n",
    "    G_hidden[s1 <= 0] = 0  # Apply ReLU derivative\n",
    "\n",
    "    # Compute gradients for W1 and b1\n",
    "    grad_W1 = (1 / N) * (G_hidden @ X.T) + 2 * lam * W1  # (m, d)\n",
    "    grad_b1 = (1 / N) * np.sum(G_hidden, axis=1, keepdims=True)  # (m, 1)\n",
    "\n",
    "    # Store gradients\n",
    "    grads = {\n",
    "        'W': [grad_W1, grad_W2],\n",
    "        'b': [grad_b1, grad_b2]\n",
    "    }\n",
    "\n",
    "    return grads\n"
   ]
  },
  {
   "cell_type": "code",
   "execution_count": null,
   "metadata": {},
   "outputs": [],
   "source": []
  },
  {
   "cell_type": "code",
   "execution_count": 59,
   "metadata": {},
   "outputs": [],
   "source": [
    "\n",
    "# Forward pass\n",
    "fp_data = ApplyNetwork(X_small, small_net)\n",
    "\n"
   ]
  },
  {
   "cell_type": "code",
   "execution_count": 60,
   "metadata": {},
   "outputs": [
    {
     "data": {
      "text/plain": [
       "(10, 3)"
      ]
     },
     "execution_count": 60,
     "metadata": {},
     "output_type": "execute_result"
    }
   ],
   "source": [
    "Y_small.shape"
   ]
  },
  {
   "cell_type": "code",
   "execution_count": 61,
   "metadata": {},
   "outputs": [
    {
     "data": {
      "text/plain": [
       "(5, 3)"
      ]
     },
     "execution_count": 61,
     "metadata": {},
     "output_type": "execute_result"
    }
   ],
   "source": [
    "X_small.shape"
   ]
  },
  {
   "cell_type": "code",
   "execution_count": 62,
   "metadata": {},
   "outputs": [
    {
     "data": {
      "text/plain": [
       "(10, 3)"
      ]
     },
     "execution_count": 62,
     "metadata": {},
     "output_type": "execute_result"
    }
   ],
   "source": [
    "d_small = 5\n",
    "n_small = 3\n",
    "m = 6\n",
    "lam = 0\n",
    "\n",
    "small_net['W'][0] = (1 / np.sqrt(d_small)) * rng.standard_normal(size=(m, d_small))\n",
    "small_net['b'][0] = np.zeros((m, 1))\n",
    "small_net['W'][1] = (1 / np.sqrt(m)) * rng.standard_normal(size=(K, m))\n",
    "small_net['b'][1] = np.zeros((K, 1))\n",
    "\n",
    "X_small = X_train[0:d_small, 0:n_small]\n",
    "Y_small = Y_train[:K, 0:n_small]\n",
    "Y_small.shape"
   ]
  },
  {
   "cell_type": "code",
   "execution_count": 63,
   "metadata": {},
   "outputs": [],
   "source": [
    "\n",
    "fp_data = ApplyNetwork(X_small, small_net)\n",
    "my_grads = BackwardPass(X_small, Y_small, fp_data, small_net, lam=0)\n"
   ]
  },
  {
   "cell_type": "code",
   "execution_count": 64,
   "metadata": {},
   "outputs": [],
   "source": [
    "\n",
    "torch_grads = ComputeGradsWithTorch(X_small, y_small[0:n_small], small_net, lam=0)"
   ]
  },
  {
   "cell_type": "code",
   "execution_count": 65,
   "metadata": {},
   "outputs": [
    {
     "name": "stdout",
     "output_type": "stream",
     "text": [
      "Layer 1 - Max abs diff in W: 1.1102230246251565e-16\n",
      "Layer 1 - Max abs diff in b: 6.938893903907228e-17\n",
      "Layer 2 - Max abs diff in W: 1.1102230246251565e-16\n",
      "Layer 2 - Max abs diff in b: 5.551115123125783e-17\n"
     ]
    }
   ],
   "source": [
    "\n",
    "# Check gradient differences\n",
    "for i in range(2):\n",
    "    print(f\"Layer {i+1} - Max abs diff in W: {np.max(np.abs(my_grads['W'][i] - torch_grads['W'][i]))}\")\n",
    "    print(f\"Layer {i+1} - Max abs diff in b: {np.max(np.abs(my_grads['b'][i] - torch_grads['b'][i]))}\")\n"
   ]
  },
  {
   "cell_type": "markdown",
   "metadata": {},
   "source": [
    "### We have now validated that the analytic gradient computations are correct\n",
    "#### We can now add L2 Regularization"
   ]
  },
  {
   "cell_type": "code",
   "execution_count": 66,
   "metadata": {},
   "outputs": [
    {
     "name": "stdout",
     "output_type": "stream",
     "text": [
      "Layer 1 - Max abs diff in W: 1.1102230246251565e-16\n",
      "Layer 1 - Max abs diff in b: 6.938893903907228e-17\n",
      "Layer 2 - Max abs diff in W: 1.1102230246251565e-16\n",
      "Layer 2 - Max abs diff in b: 5.551115123125783e-17\n"
     ]
    }
   ],
   "source": [
    "\n",
    "fp_data = ApplyNetwork(X_small, small_net)\n",
    "my_grads = BackwardPass(X_small, Y_small, fp_data, small_net, lam=0.1)\n",
    "torch_grads = ComputeGradsWithTorch(X_small, y_small[0:n_small], small_net, lam = 0.1)\n",
    "\n",
    "# Check gradient differences\n",
    "for i in range(2):\n",
    "    print(f\"Layer {i+1} - Max abs diff in W: {np.max(np.abs(my_grads['W'][i] - torch_grads['W'][i]))}\")\n",
    "    print(f\"Layer {i+1} - Max abs diff in b: {np.max(np.abs(my_grads['b'][i] - torch_grads['b'][i]))}\")\n",
    "\n"
   ]
  },
  {
   "cell_type": "markdown",
   "metadata": {},
   "source": [
    "### Sanity Check\n",
    "\n",
    "#### Check if we can overfit the training data and get a very low loss\n"
   ]
  },
  {
   "cell_type": "code",
   "execution_count": null,
   "metadata": {},
   "outputs": [],
   "source": [
    "\n",
    "\n"
   ]
  },
  {
   "cell_type": "markdown",
   "metadata": {},
   "source": [
    "#### Training Function\n"
   ]
  },
  {
   "cell_type": "code",
   "execution_count": 106,
   "metadata": {},
   "outputs": [],
   "source": [
    "def ComputeLoss(P, y, W_list, lam):\n",
    "    \"\"\"\n",
    "    Computes the total loss function J (cross-entropy + L2 regularization).\n",
    "    \n",
    "    Args:\n",
    "      P      : (K, N) Softmax probabilities\n",
    "      y      : (N,) Ground truth class indices (integers 0 to 9)\n",
    "      W_list : List of weight matrices for all layers\n",
    "      lam    : Regularization coefficient\n",
    "    \n",
    "    Returns:\n",
    "      J      : Scalar value representing the total loss\n",
    "    \"\"\"\n",
    "    N = P.shape[1]  # Number of training examples\n",
    "\n",
    "    # Pick correct class probabilities using indexing\n",
    "    log_probs = -np.log(P[y, np.arange(N)] + 1e-15)  # Add small epsilon to prevent log(0)\n",
    "    \n",
    "    # Cross-entropy loss (mean over all examples)\n",
    "    cross_entropy_loss = np.mean(log_probs)\n",
    "\n",
    "    # Regularization term (sum over all weight matrices)\n",
    "    reg_term = lam * sum(np.sum(W**2) for W in W_list)\n",
    "\n",
    "    # Total cost\n",
    "    J = cross_entropy_loss + reg_term\n",
    "    return J\n",
    "\n",
    "import copy\n",
    "\n",
    "def MiniBatchGD0(X, Y, GDparams, init_net, lam):\n",
    "    \"\"\"\n",
    "    Performs Mini-Batch Gradient Descent for training a two-layer network.\n",
    "\n",
    "    Args:\n",
    "      X        : (d, N) Input data matrix\n",
    "      Y        : (K, N) One-hot encoded ground truth labels\n",
    "      GDparams : Dictionary containing:\n",
    "                 - \"n_batch\": Mini-batch size\n",
    "                 - \"eta\": Learning rate\n",
    "                 - \"n_epochs\": Number of epochs\n",
    "      init_net : Dictionary with initial parameters:\n",
    "                 - 'W': [W1, W2] weight matrices\n",
    "                 - 'b': [b1, b2] bias vectors\n",
    "      lam      : Regularization coefficient\n",
    "\n",
    "    Returns:\n",
    "      trained_net : Dictionary with learned parameters:\n",
    "                    - 'W': [W1, W2] trained weight matrices\n",
    "                    - 'b': [b1, b2] trained bias vectors\n",
    "    \"\"\"\n",
    "    # Make a deep copy to avoid modifying the original dictionary\n",
    "    trained_net = copy.deepcopy(init_net)\n",
    "\n",
    "    # Extract hyperparameters\n",
    "    n_batch = GDparams[\"n_batch\"]\n",
    "    eta = GDparams[\"eta\"]\n",
    "    n_epochs = GDparams[\"n_epochs\"]\n",
    "    \n",
    "    N = X.shape[1]  # Total number of samples\n",
    "    rng = np.random.default_rng(seed=42)  # Ensure reproducibility\n",
    "\n",
    "    for epoch in range(n_epochs):\n",
    "        # Shuffle the dataset\n",
    "        shuffled_indices = rng.permutation(N)\n",
    "        X_shuffled = X[:, shuffled_indices]\n",
    "        Y_shuffled = Y[:, shuffled_indices]\n",
    "\n",
    "        # Mini-Batch Gradient Descent\n",
    "        for j in range(N // n_batch):\n",
    "            j_start = j * n_batch\n",
    "            j_end = (j + 1) * n_batch\n",
    "            Xbatch = X_shuffled[:, j_start:j_end]  # Mini-batch inputs (d x n_batch)\n",
    "            Ybatch = Y_shuffled[:, j_start:j_end]  # Mini-batch labels (K x n_batch)\n",
    "\n",
    "            # Forward pass\n",
    "            fp_data = ApplyNetwork(Xbatch, trained_net)\n",
    "            P = fp_data['p']  # Extract softmax probabilities\n",
    "\n",
    "            # Compute gradients\n",
    "            grads = BackwardPass(Xbatch, Ybatch, fp_data, trained_net, lam)\n",
    "\n",
    "            # Update parameters\n",
    "            for i in range(2):  # Two layers\n",
    "                trained_net[\"W\"][i] -= eta * grads[\"W\"][i]\n",
    "                trained_net[\"b\"][i] -= eta * grads[\"b\"][i]\n",
    "\n",
    "        # Compute and print the loss at the end of each epoch\n",
    "        fp_data_train = ApplyNetwork(X, trained_net)\n",
    "        P_train = fp_data_train['p']\n",
    "        loss = ComputeLoss(P_train, np.argmax(Y, axis=0), trained_net[\"W\"], lam)\n",
    "        print(f\"Epoch {epoch+1}/{n_epochs} - Loss: {loss:.4f}\")\n",
    "\n",
    "    return trained_net\n",
    "\n"
   ]
  },
  {
   "cell_type": "code",
   "execution_count": 107,
   "metadata": {},
   "outputs": [],
   "source": [
    "n_samples = 100\n",
    "n_batch = 1\n",
    "lam = 0\n",
    "nbr_epochs = 10\n",
    "eta = 0.0001\n",
    "\n",
    "d = 3072\n",
    "m = 50\n",
    "K = 10\n"
   ]
  },
  {
   "cell_type": "code",
   "execution_count": 86,
   "metadata": {},
   "outputs": [],
   "source": [
    "init_net = initialize_parameters(d, m, K)"
   ]
  },
  {
   "cell_type": "code",
   "execution_count": null,
   "metadata": {},
   "outputs": [
    {
     "name": "stdout",
     "output_type": "stream",
     "text": [
      "Epoch 1/10 - Loss: 2.3375\n",
      "Epoch 2/10 - Loss: 2.1934\n",
      "Epoch 3/10 - Loss: 2.0753\n",
      "Epoch 4/10 - Loss: 1.9753\n",
      "Epoch 5/10 - Loss: 1.8879\n",
      "Epoch 6/10 - Loss: 1.8100\n",
      "Epoch 7/10 - Loss: 1.7393\n",
      "Epoch 8/10 - Loss: 1.6735\n",
      "Epoch 9/10 - Loss: 1.6134\n",
      "Epoch 10/10 - Loss: 1.5564\n"
     ]
    }
   ],
   "source": [
    "overfitted_net = MiniBatchGD0(X_train[:,0:n_samples], Y_train[:,0:n_samples], {'n_batch':n_batch, 'eta':eta, 'n_epochs':nbr_epochs}, init_net, lam = 0)"
   ]
  },
  {
   "cell_type": "code",
   "execution_count": 108,
   "metadata": {},
   "outputs": [],
   "source": [
    "import copy\n",
    "import numpy as np\n",
    "import os\n",
    "import matplotlib.pyplot as plt\n",
    "\n",
    "def MiniBatchGD(X_train, Y_train, X_val, Y_val, GDparams, init_net, lam):\n",
    "    \"\"\"\n",
    "    Performs Mini-Batch Gradient Descent and tracks training progress.\n",
    "    \n",
    "    Args:\n",
    "      X_train : (d, N_train) Training input data.\n",
    "      Y_train : (K, N_train) One-hot encoded training labels.\n",
    "      X_val   : (d, N_val) Validation input data.\n",
    "      Y_val   : (K, N_val) One-hot encoded validation labels.\n",
    "      GDparams: Dictionary containing:\n",
    "                 - \"n_batch\": Mini-batch size\n",
    "                 - \"eta\": Learning rate\n",
    "                 - \"n_epochs\": Number of epochs\n",
    "      init_net: Dictionary with initial parameters:\n",
    "                 - 'W': [W1, W2] weight matrices\n",
    "                 - 'b': [b1, b2] bias vectors\n",
    "      lam     : Regularization coefficient.\n",
    "    \n",
    "    Returns:\n",
    "      trained_net: Dictionary with learned parameters.\n",
    "      history: Dictionary containing:\n",
    "               - \"cost_train\", \"cost_val\"\n",
    "               - \"loss_train\", \"loss_val\"\n",
    "               - \"acc_train\", \"acc_val\"\n",
    "    \"\"\"\n",
    "    trained_net = copy.deepcopy(init_net)  # Avoid modifying original network\n",
    "\n",
    "    # Extract hyperparameters\n",
    "    n_batch = GDparams[\"n_batch\"]\n",
    "    eta = GDparams[\"eta\"]\n",
    "    n_epochs = GDparams[\"n_epochs\"]\n",
    "    \n",
    "    N_train = X_train.shape[1]  # Number of training samples\n",
    "    N_val = X_val.shape[1]  # Number of validation samples\n",
    "    \n",
    "    rng = np.random.default_rng(seed=42)  # Reproducible shuffling\n",
    "    \n",
    "    # Tracking loss, cost, and accuracy\n",
    "    history = {\n",
    "        \"cost_train\": [], \"cost_val\": [],\n",
    "        \"loss_train\": [], \"loss_val\": [],\n",
    "        \"acc_train\": [], \"acc_val\": []\n",
    "    }\n",
    "\n",
    "    update_step = 0  # Track updates\n",
    "\n",
    "    for epoch in range(n_epochs):\n",
    "        shuffled_indices = rng.permutation(N_train)\n",
    "        X_shuffled = X_train[:, shuffled_indices]\n",
    "        Y_shuffled = Y_train[:, shuffled_indices]\n",
    "\n",
    "        for j in range(N_train // n_batch):\n",
    "            j_start = j * n_batch\n",
    "            j_end = (j + 1) * n_batch\n",
    "            Xbatch = X_shuffled[:, j_start:j_end]  # Mini-batch input (d x n_batch)\n",
    "            Ybatch = Y_shuffled[:, j_start:j_end]  # Mini-batch labels (K x n_batch)\n",
    "\n",
    "            # Forward pass\n",
    "            fp_data = ApplyNetwork(Xbatch, trained_net)\n",
    "            P = fp_data['p']\n",
    "\n",
    "            # Compute gradients\n",
    "            grads = BackwardPass(Xbatch, Ybatch, fp_data, trained_net, lam)\n",
    "\n",
    "            # Update parameters\n",
    "            for i in range(2):  # Two layers\n",
    "                trained_net[\"W\"][i] -= eta * grads[\"W\"][i]\n",
    "                trained_net[\"b\"][i] -= eta * grads[\"b\"][i]\n",
    "\n",
    "            # Record metrics per update step\n",
    "            if update_step % 10 == 0:  # Log every 10 updates\n",
    "                # Compute metrics for training set\n",
    "                fp_data_train = ApplyNetwork(X_train, trained_net)\n",
    "                P_train = fp_data_train['p']\n",
    "                loss_train = np.mean(-np.log(P_train[np.argmax(Y_train, axis=0), np.arange(N_train)] + 1e-15))\n",
    "                cost_train = ComputeLoss(P_train, np.argmax(Y_train, axis=0), trained_net[\"W\"], lam)\n",
    "                acc_train = np.mean(np.argmax(P_train, axis=0) == np.argmax(Y_train, axis=0))\n",
    "\n",
    "                # Compute metrics for validation set\n",
    "                fp_data_val = ApplyNetwork(X_val, trained_net)\n",
    "                P_val = fp_data_val['p']\n",
    "                loss_val = np.mean(-np.log(P_val[np.argmax(Y_val, axis=0), np.arange(N_val)] + 1e-15))\n",
    "                cost_val = ComputeLoss(P_val, np.argmax(Y_val, axis=0), trained_net[\"W\"], lam)\n",
    "                acc_val = np.mean(np.argmax(P_val, axis=0) == np.argmax(Y_val, axis=0))\n",
    "\n",
    "                # Store in history\n",
    "                history[\"cost_train\"].append(cost_train)\n",
    "                history[\"cost_val\"].append(cost_val)\n",
    "                history[\"loss_train\"].append(loss_train)\n",
    "                history[\"loss_val\"].append(loss_val)\n",
    "                history[\"acc_train\"].append(acc_train)\n",
    "                history[\"acc_val\"].append(acc_val)\n",
    "\n",
    "            update_step += 1\n",
    "\n",
    "        # Print loss at the end of each epoch\n",
    "        print(f\"Epoch {epoch+1}/{n_epochs} - Cost: {cost_train:.4f} - Accuracy: {acc_train:.4f}\")\n",
    "\n",
    "    return trained_net, history\n",
    "\n",
    "\n",
    "def plot_training_curves(history, image_name='default.png'):\n",
    "    \"\"\"\n",
    "    Plots training and validation cost, loss, and accuracy over update steps.\n",
    "\n",
    "    Args:\n",
    "      history: Dictionary containing:\n",
    "               - \"cost_train\", \"cost_val\"\n",
    "               - \"loss_train\", \"loss_val\"\n",
    "               - \"acc_train\", \"acc_val\"\n",
    "    \"\"\"\n",
    "    save_dir = \"../results/images\"\n",
    "    path = os.path.join(save_dir, image_name)\n",
    "    \n",
    "    steps = range(len(history[\"cost_train\"]))\n",
    "\n",
    "    fig, axes = plt.subplots(1, 3, figsize=(20, 5))\n",
    "\n",
    "    # Cost plot\n",
    "    axes[0].plot(steps, history[\"cost_train\"], label=\"Training Cost\", color=\"blue\")\n",
    "    axes[0].plot(steps, history[\"cost_val\"], label=\"Validation Cost\", color=\"red\")\n",
    "    axes[0].set_title(\"Cost over Training\")\n",
    "    axes[0].set_xlabel(\"Update Steps\")\n",
    "    axes[0].set_ylabel(\"Cost\")\n",
    "    axes[0].legend()\n",
    "    axes[0].grid()\n",
    "\n",
    "    # Loss plot\n",
    "    axes[1].plot(steps, history[\"loss_train\"], label=\"Training Loss\", color=\"blue\")\n",
    "    axes[1].plot(steps, history[\"loss_val\"], label=\"Validation Loss\", color=\"red\")\n",
    "    axes[1].set_title(\"Loss over Training\")\n",
    "    axes[1].set_xlabel(\"Update Steps\")\n",
    "    axes[1].set_ylabel(\"Loss\")\n",
    "    axes[1].legend()\n",
    "    axes[1].grid()\n",
    "\n",
    "    # Accuracy plot\n",
    "    axes[2].plot(steps, history[\"acc_train\"], label=\"Training Accuracy\", color=\"blue\")\n",
    "    axes[2].plot(steps, history[\"acc_val\"], label=\"Validation Accuracy\", color=\"red\")\n",
    "    axes[2].set_title(\"Accuracy over Training\")\n",
    "    axes[2].set_xlabel(\"Update Steps\")\n",
    "    axes[2].set_ylabel(\"Accuracy\")\n",
    "    axes[2].legend()\n",
    "    axes[2].grid()\n",
    "\n",
    "    plt.tight_layout()\n",
    "    plt.savefig(path)  # Save the figure to the specified path\n",
    "    plt.show()\n"
   ]
  },
  {
   "cell_type": "code",
   "execution_count": null,
   "metadata": {},
   "outputs": [],
   "source": []
  },
  {
   "cell_type": "code",
   "execution_count": 111,
   "metadata": {},
   "outputs": [
    {
     "name": "stdout",
     "output_type": "stream",
     "text": [
      "Epoch 1/200 - Cost: 2.5121 - Accuracy: 0.0500\n",
      "Epoch 2/200 - Cost: 2.4897 - Accuracy: 0.0600\n",
      "Epoch 3/200 - Cost: 2.4691 - Accuracy: 0.0600\n",
      "Epoch 4/200 - Cost: 2.4481 - Accuracy: 0.0600\n",
      "Epoch 5/200 - Cost: 2.4286 - Accuracy: 0.0700\n",
      "Epoch 6/200 - Cost: 2.4100 - Accuracy: 0.0700\n",
      "Epoch 7/200 - Cost: 2.3911 - Accuracy: 0.0800\n",
      "Epoch 8/200 - Cost: 2.3735 - Accuracy: 0.1000\n",
      "Epoch 9/200 - Cost: 2.3563 - Accuracy: 0.1100\n",
      "Epoch 10/200 - Cost: 2.3402 - Accuracy: 0.1200\n",
      "Epoch 11/200 - Cost: 2.3243 - Accuracy: 0.1200\n",
      "Epoch 12/200 - Cost: 2.3082 - Accuracy: 0.1300\n",
      "Epoch 13/200 - Cost: 2.2932 - Accuracy: 0.1400\n",
      "Epoch 14/200 - Cost: 2.2784 - Accuracy: 0.1400\n",
      "Epoch 15/200 - Cost: 2.2641 - Accuracy: 0.1500\n",
      "Epoch 16/200 - Cost: 2.2507 - Accuracy: 0.1500\n",
      "Epoch 17/200 - Cost: 2.2371 - Accuracy: 0.1500\n",
      "Epoch 18/200 - Cost: 2.2235 - Accuracy: 0.1600\n",
      "Epoch 19/200 - Cost: 2.2105 - Accuracy: 0.1600\n",
      "Epoch 20/200 - Cost: 2.1975 - Accuracy: 0.1800\n",
      "Epoch 21/200 - Cost: 2.1850 - Accuracy: 0.1900\n",
      "Epoch 22/200 - Cost: 2.1728 - Accuracy: 0.1900\n",
      "Epoch 23/200 - Cost: 2.1611 - Accuracy: 0.2000\n",
      "Epoch 24/200 - Cost: 2.1489 - Accuracy: 0.2000\n",
      "Epoch 25/200 - Cost: 2.1372 - Accuracy: 0.2400\n",
      "Epoch 26/200 - Cost: 2.1258 - Accuracy: 0.2500\n",
      "Epoch 27/200 - Cost: 2.1145 - Accuracy: 0.2600\n",
      "Epoch 28/200 - Cost: 2.1030 - Accuracy: 0.2700\n",
      "Epoch 29/200 - Cost: 2.0926 - Accuracy: 0.2700\n",
      "Epoch 30/200 - Cost: 2.0815 - Accuracy: 0.2700\n",
      "Epoch 31/200 - Cost: 2.0709 - Accuracy: 0.2700\n",
      "Epoch 32/200 - Cost: 2.0604 - Accuracy: 0.2700\n",
      "Epoch 33/200 - Cost: 2.0504 - Accuracy: 0.2700\n",
      "Epoch 34/200 - Cost: 2.0401 - Accuracy: 0.2900\n",
      "Epoch 35/200 - Cost: 2.0304 - Accuracy: 0.2900\n",
      "Epoch 36/200 - Cost: 2.0206 - Accuracy: 0.3000\n",
      "Epoch 37/200 - Cost: 2.0111 - Accuracy: 0.3000\n",
      "Epoch 38/200 - Cost: 2.0013 - Accuracy: 0.3100\n",
      "Epoch 39/200 - Cost: 1.9919 - Accuracy: 0.3200\n",
      "Epoch 40/200 - Cost: 1.9827 - Accuracy: 0.3400\n",
      "Epoch 41/200 - Cost: 1.9738 - Accuracy: 0.3400\n",
      "Epoch 42/200 - Cost: 1.9647 - Accuracy: 0.3400\n",
      "Epoch 43/200 - Cost: 1.9559 - Accuracy: 0.3400\n",
      "Epoch 44/200 - Cost: 1.9472 - Accuracy: 0.3400\n",
      "Epoch 45/200 - Cost: 1.9386 - Accuracy: 0.3400\n",
      "Epoch 46/200 - Cost: 1.9302 - Accuracy: 0.3500\n",
      "Epoch 47/200 - Cost: 1.9217 - Accuracy: 0.3600\n",
      "Epoch 48/200 - Cost: 1.9130 - Accuracy: 0.3700\n",
      "Epoch 49/200 - Cost: 1.9047 - Accuracy: 0.3800\n",
      "Epoch 50/200 - Cost: 1.8964 - Accuracy: 0.3900\n",
      "Epoch 51/200 - Cost: 1.8885 - Accuracy: 0.4000\n",
      "Epoch 52/200 - Cost: 1.8802 - Accuracy: 0.4000\n",
      "Epoch 53/200 - Cost: 1.8723 - Accuracy: 0.4200\n",
      "Epoch 54/200 - Cost: 1.8645 - Accuracy: 0.4300\n",
      "Epoch 55/200 - Cost: 1.8564 - Accuracy: 0.4600\n",
      "Epoch 56/200 - Cost: 1.8488 - Accuracy: 0.4700\n",
      "Epoch 57/200 - Cost: 1.8411 - Accuracy: 0.4800\n",
      "Epoch 58/200 - Cost: 1.8336 - Accuracy: 0.4800\n",
      "Epoch 59/200 - Cost: 1.8262 - Accuracy: 0.4800\n",
      "Epoch 60/200 - Cost: 1.8188 - Accuracy: 0.4800\n",
      "Epoch 61/200 - Cost: 1.8117 - Accuracy: 0.4900\n",
      "Epoch 62/200 - Cost: 1.8043 - Accuracy: 0.4900\n",
      "Epoch 63/200 - Cost: 1.7972 - Accuracy: 0.5000\n",
      "Epoch 64/200 - Cost: 1.7899 - Accuracy: 0.4900\n",
      "Epoch 65/200 - Cost: 1.7828 - Accuracy: 0.5000\n",
      "Epoch 66/200 - Cost: 1.7759 - Accuracy: 0.5100\n",
      "Epoch 67/200 - Cost: 1.7688 - Accuracy: 0.5400\n",
      "Epoch 68/200 - Cost: 1.7618 - Accuracy: 0.5500\n",
      "Epoch 69/200 - Cost: 1.7550 - Accuracy: 0.5400\n",
      "Epoch 70/200 - Cost: 1.7480 - Accuracy: 0.5400\n",
      "Epoch 71/200 - Cost: 1.7414 - Accuracy: 0.5600\n",
      "Epoch 72/200 - Cost: 1.7345 - Accuracy: 0.5600\n",
      "Epoch 73/200 - Cost: 1.7279 - Accuracy: 0.5600\n",
      "Epoch 74/200 - Cost: 1.7215 - Accuracy: 0.5600\n",
      "Epoch 75/200 - Cost: 1.7146 - Accuracy: 0.5700\n",
      "Epoch 76/200 - Cost: 1.7081 - Accuracy: 0.5900\n",
      "Epoch 77/200 - Cost: 1.7017 - Accuracy: 0.5800\n",
      "Epoch 78/200 - Cost: 1.6952 - Accuracy: 0.6100\n",
      "Epoch 79/200 - Cost: 1.6888 - Accuracy: 0.6100\n",
      "Epoch 80/200 - Cost: 1.6825 - Accuracy: 0.6100\n",
      "Epoch 81/200 - Cost: 1.6763 - Accuracy: 0.6100\n",
      "Epoch 82/200 - Cost: 1.6697 - Accuracy: 0.6100\n",
      "Epoch 83/200 - Cost: 1.6636 - Accuracy: 0.6100\n",
      "Epoch 84/200 - Cost: 1.6575 - Accuracy: 0.6100\n",
      "Epoch 85/200 - Cost: 1.6513 - Accuracy: 0.6100\n",
      "Epoch 86/200 - Cost: 1.6454 - Accuracy: 0.6100\n",
      "Epoch 87/200 - Cost: 1.6391 - Accuracy: 0.6100\n",
      "Epoch 88/200 - Cost: 1.6332 - Accuracy: 0.6200\n",
      "Epoch 89/200 - Cost: 1.6273 - Accuracy: 0.6200\n",
      "Epoch 90/200 - Cost: 1.6213 - Accuracy: 0.6200\n",
      "Epoch 91/200 - Cost: 1.6155 - Accuracy: 0.6200\n",
      "Epoch 92/200 - Cost: 1.6097 - Accuracy: 0.6200\n",
      "Epoch 93/200 - Cost: 1.6042 - Accuracy: 0.6200\n",
      "Epoch 94/200 - Cost: 1.5985 - Accuracy: 0.6200\n",
      "Epoch 95/200 - Cost: 1.5930 - Accuracy: 0.6200\n",
      "Epoch 96/200 - Cost: 1.5871 - Accuracy: 0.6300\n",
      "Epoch 97/200 - Cost: 1.5817 - Accuracy: 0.6300\n",
      "Epoch 98/200 - Cost: 1.5762 - Accuracy: 0.6300\n",
      "Epoch 99/200 - Cost: 1.5707 - Accuracy: 0.6500\n",
      "Epoch 100/200 - Cost: 1.5651 - Accuracy: 0.6500\n",
      "Epoch 101/200 - Cost: 1.5598 - Accuracy: 0.6500\n",
      "Epoch 102/200 - Cost: 1.5545 - Accuracy: 0.6700\n",
      "Epoch 103/200 - Cost: 1.5493 - Accuracy: 0.6600\n",
      "Epoch 104/200 - Cost: 1.5439 - Accuracy: 0.6700\n",
      "Epoch 105/200 - Cost: 1.5386 - Accuracy: 0.6700\n",
      "Epoch 106/200 - Cost: 1.5334 - Accuracy: 0.6800\n",
      "Epoch 107/200 - Cost: 1.5281 - Accuracy: 0.6800\n",
      "Epoch 108/200 - Cost: 1.5230 - Accuracy: 0.6800\n",
      "Epoch 109/200 - Cost: 1.5178 - Accuracy: 0.6800\n",
      "Epoch 110/200 - Cost: 1.5129 - Accuracy: 0.6800\n",
      "Epoch 111/200 - Cost: 1.5077 - Accuracy: 0.6800\n",
      "Epoch 112/200 - Cost: 1.5027 - Accuracy: 0.7000\n",
      "Epoch 113/200 - Cost: 1.4976 - Accuracy: 0.7000\n",
      "Epoch 114/200 - Cost: 1.4926 - Accuracy: 0.7100\n",
      "Epoch 115/200 - Cost: 1.4876 - Accuracy: 0.7100\n",
      "Epoch 116/200 - Cost: 1.4827 - Accuracy: 0.7100\n",
      "Epoch 117/200 - Cost: 1.4778 - Accuracy: 0.7300\n",
      "Epoch 118/200 - Cost: 1.4728 - Accuracy: 0.7300\n",
      "Epoch 119/200 - Cost: 1.4680 - Accuracy: 0.7300\n",
      "Epoch 120/200 - Cost: 1.4631 - Accuracy: 0.7400\n",
      "Epoch 121/200 - Cost: 1.4583 - Accuracy: 0.7500\n",
      "Epoch 122/200 - Cost: 1.4534 - Accuracy: 0.7500\n",
      "Epoch 123/200 - Cost: 1.4487 - Accuracy: 0.7500\n",
      "Epoch 124/200 - Cost: 1.4440 - Accuracy: 0.7500\n",
      "Epoch 125/200 - Cost: 1.4393 - Accuracy: 0.7500\n",
      "Epoch 126/200 - Cost: 1.4347 - Accuracy: 0.7600\n",
      "Epoch 127/200 - Cost: 1.4301 - Accuracy: 0.7700\n",
      "Epoch 128/200 - Cost: 1.4256 - Accuracy: 0.7700\n",
      "Epoch 129/200 - Cost: 1.4210 - Accuracy: 0.7700\n",
      "Epoch 130/200 - Cost: 1.4166 - Accuracy: 0.7800\n",
      "Epoch 131/200 - Cost: 1.4121 - Accuracy: 0.7800\n",
      "Epoch 132/200 - Cost: 1.4076 - Accuracy: 0.7800\n",
      "Epoch 133/200 - Cost: 1.4031 - Accuracy: 0.7800\n",
      "Epoch 134/200 - Cost: 1.3988 - Accuracy: 0.7800\n",
      "Epoch 135/200 - Cost: 1.3944 - Accuracy: 0.7800\n",
      "Epoch 136/200 - Cost: 1.3901 - Accuracy: 0.7800\n",
      "Epoch 137/200 - Cost: 1.3857 - Accuracy: 0.7800\n",
      "Epoch 138/200 - Cost: 1.3815 - Accuracy: 0.7800\n",
      "Epoch 139/200 - Cost: 1.3771 - Accuracy: 0.7800\n",
      "Epoch 140/200 - Cost: 1.3729 - Accuracy: 0.7900\n",
      "Epoch 141/200 - Cost: 1.3687 - Accuracy: 0.7900\n",
      "Epoch 142/200 - Cost: 1.3646 - Accuracy: 0.7900\n",
      "Epoch 143/200 - Cost: 1.3603 - Accuracy: 0.7900\n",
      "Epoch 144/200 - Cost: 1.3562 - Accuracy: 0.7900\n",
      "Epoch 145/200 - Cost: 1.3520 - Accuracy: 0.7900\n",
      "Epoch 146/200 - Cost: 1.3478 - Accuracy: 0.7900\n",
      "Epoch 147/200 - Cost: 1.3438 - Accuracy: 0.7900\n",
      "Epoch 148/200 - Cost: 1.3397 - Accuracy: 0.7900\n",
      "Epoch 149/200 - Cost: 1.3356 - Accuracy: 0.7900\n",
      "Epoch 150/200 - Cost: 1.3316 - Accuracy: 0.7900\n",
      "Epoch 151/200 - Cost: 1.3276 - Accuracy: 0.7900\n",
      "Epoch 152/200 - Cost: 1.3235 - Accuracy: 0.7900\n",
      "Epoch 153/200 - Cost: 1.3196 - Accuracy: 0.7900\n",
      "Epoch 154/200 - Cost: 1.3156 - Accuracy: 0.7900\n",
      "Epoch 155/200 - Cost: 1.3116 - Accuracy: 0.7900\n",
      "Epoch 156/200 - Cost: 1.3077 - Accuracy: 0.7900\n",
      "Epoch 157/200 - Cost: 1.3037 - Accuracy: 0.7900\n",
      "Epoch 158/200 - Cost: 1.2998 - Accuracy: 0.7900\n",
      "Epoch 159/200 - Cost: 1.2959 - Accuracy: 0.7900\n",
      "Epoch 160/200 - Cost: 1.2920 - Accuracy: 0.7900\n",
      "Epoch 161/200 - Cost: 1.2883 - Accuracy: 0.8000\n",
      "Epoch 162/200 - Cost: 1.2844 - Accuracy: 0.8000\n",
      "Epoch 163/200 - Cost: 1.2806 - Accuracy: 0.8000\n",
      "Epoch 164/200 - Cost: 1.2769 - Accuracy: 0.8100\n",
      "Epoch 165/200 - Cost: 1.2730 - Accuracy: 0.8000\n",
      "Epoch 166/200 - Cost: 1.2693 - Accuracy: 0.8100\n",
      "Epoch 167/200 - Cost: 1.2655 - Accuracy: 0.8100\n",
      "Epoch 168/200 - Cost: 1.2618 - Accuracy: 0.8100\n",
      "Epoch 169/200 - Cost: 1.2581 - Accuracy: 0.8100\n",
      "Epoch 170/200 - Cost: 1.2544 - Accuracy: 0.8100\n",
      "Epoch 171/200 - Cost: 1.2508 - Accuracy: 0.8100\n",
      "Epoch 172/200 - Cost: 1.2471 - Accuracy: 0.8100\n",
      "Epoch 173/200 - Cost: 1.2434 - Accuracy: 0.8100\n",
      "Epoch 174/200 - Cost: 1.2398 - Accuracy: 0.8100\n",
      "Epoch 175/200 - Cost: 1.2362 - Accuracy: 0.8100\n",
      "Epoch 176/200 - Cost: 1.2326 - Accuracy: 0.8200\n",
      "Epoch 177/200 - Cost: 1.2289 - Accuracy: 0.8200\n",
      "Epoch 178/200 - Cost: 1.2254 - Accuracy: 0.8200\n",
      "Epoch 179/200 - Cost: 1.2218 - Accuracy: 0.8200\n",
      "Epoch 180/200 - Cost: 1.2184 - Accuracy: 0.8200\n",
      "Epoch 181/200 - Cost: 1.2148 - Accuracy: 0.8200\n",
      "Epoch 182/200 - Cost: 1.2114 - Accuracy: 0.8200\n",
      "Epoch 183/200 - Cost: 1.2079 - Accuracy: 0.8200\n",
      "Epoch 184/200 - Cost: 1.2045 - Accuracy: 0.8200\n",
      "Epoch 185/200 - Cost: 1.2010 - Accuracy: 0.8200\n",
      "Epoch 186/200 - Cost: 1.1976 - Accuracy: 0.8200\n",
      "Epoch 187/200 - Cost: 1.1942 - Accuracy: 0.8200\n",
      "Epoch 188/200 - Cost: 1.1908 - Accuracy: 0.8200\n",
      "Epoch 189/200 - Cost: 1.1874 - Accuracy: 0.8200\n",
      "Epoch 190/200 - Cost: 1.1841 - Accuracy: 0.8200\n",
      "Epoch 191/200 - Cost: 1.1808 - Accuracy: 0.8200\n",
      "Epoch 192/200 - Cost: 1.1774 - Accuracy: 0.8200\n",
      "Epoch 193/200 - Cost: 1.1740 - Accuracy: 0.8200\n",
      "Epoch 194/200 - Cost: 1.1708 - Accuracy: 0.8200\n",
      "Epoch 195/200 - Cost: 1.1675 - Accuracy: 0.8200\n",
      "Epoch 196/200 - Cost: 1.1642 - Accuracy: 0.8200\n",
      "Epoch 197/200 - Cost: 1.1608 - Accuracy: 0.8200\n",
      "Epoch 198/200 - Cost: 1.1577 - Accuracy: 0.8200\n",
      "Epoch 199/200 - Cost: 1.1545 - Accuracy: 0.8200\n",
      "Epoch 200/200 - Cost: 1.1513 - Accuracy: 0.8200\n"
     ]
    },
    {
     "data": {
      "image/png": "[encoded data removed]",
      "text/plain": [
       "<Figure size 2000x500 with 3 Axes>"
      ]
     },
     "metadata": {},
     "output_type": "display_data"
    }
   ],
   "source": [
    "# Example hyperparameters\n",
    "n_samples = 100\n",
    "n_batch = 1\n",
    "lam = 0\n",
    "nbr_epochs = 200\n",
    "eta = 0.00001\n",
    "\n",
    "d = 3072\n",
    "m = 50\n",
    "K = 10\n",
    "\n",
    "\n",
    "# Train the model\n",
    "overfitted_net, history = MiniBatchGD(X_train[:,0:n_samples], Y_train[:,0:n_samples],X_val[:,0:n_samples], Y_val[:,0:n_samples], {'n_batch':n_batch, 'eta':eta, 'n_epochs':nbr_epochs}, init_net, lam = 0)\n",
    "# Plot results\n",
    "plot_training_curves(history, image_name='overfitted_cost_loss_acc.png')"
   ]
  },
  {
   "cell_type": "code",
   "execution_count": 112,
   "metadata": {},
   "outputs": [
    {
     "ename": "AttributeError",
     "evalue": "'list' object has no attribute 'T'",
     "output_type": "error",
     "traceback": [
      "\u001b[31m---------------------------------------------------------------------------\u001b[39m",
      "\u001b[31mAttributeError\u001b[39m                            Traceback (most recent call last)",
      "\u001b[36mCell\u001b[39m\u001b[36m \u001b[39m\u001b[32mIn[112]\u001b[39m\u001b[32m, line 36\u001b[39m\n\u001b[32m     31\u001b[39m \u001b[38;5;66;03m# Run the function\u001b[39;00m\n\u001b[32m     32\u001b[39m class_names = [\n\u001b[32m     33\u001b[39m     \u001b[33m'\u001b[39m\u001b[33mairplane\u001b[39m\u001b[33m'\u001b[39m, \u001b[33m'\u001b[39m\u001b[33mautomobile\u001b[39m\u001b[33m'\u001b[39m, \u001b[33m'\u001b[39m\u001b[33mbird\u001b[39m\u001b[33m'\u001b[39m, \u001b[33m'\u001b[39m\u001b[33mcat\u001b[39m\u001b[33m'\u001b[39m, \u001b[33m'\u001b[39m\u001b[33mdeer\u001b[39m\u001b[33m'\u001b[39m,\n\u001b[32m     34\u001b[39m     \u001b[33m'\u001b[39m\u001b[33mdog\u001b[39m\u001b[33m'\u001b[39m, \u001b[33m'\u001b[39m\u001b[33mfrog\u001b[39m\u001b[33m'\u001b[39m, \u001b[33m'\u001b[39m\u001b[33mhorse\u001b[39m\u001b[33m'\u001b[39m, \u001b[33m'\u001b[39m\u001b[33mship\u001b[39m\u001b[33m'\u001b[39m, \u001b[33m'\u001b[39m\u001b[33mtruck\u001b[39m\u001b[33m'\u001b[39m\n\u001b[32m     35\u001b[39m ]\n\u001b[32m---> \u001b[39m\u001b[32m36\u001b[39m \u001b[43mvisualize_W_matrix\u001b[49m\u001b[43m(\u001b[49m\u001b[43moverfitted_net\u001b[49m\u001b[43m,\u001b[49m\u001b[43m \u001b[49m\u001b[43mclass_names\u001b[49m\u001b[43m)\u001b[49m\n",
      "\u001b[36mCell\u001b[39m\u001b[36m \u001b[39m\u001b[32mIn[112]\u001b[39m\u001b[32m, line 16\u001b[39m, in \u001b[36mvisualize_W_matrix\u001b[39m\u001b[34m(trained_net, class_names, save_path)\u001b[39m\n\u001b[32m     13\u001b[39m plt.figure(figsize=(\u001b[32m20\u001b[39m, \u001b[32m4\u001b[39m))  \u001b[38;5;66;03m# Increase the figure size\u001b[39;00m\n\u001b[32m     14\u001b[39m plt.suptitle(\u001b[33m\"\u001b[39m\u001b[33mThe learnt W matrix visualized as class template images.\u001b[39m\u001b[33m\"\u001b[39m, fontsize=\u001b[32m16\u001b[39m, fontweight=\u001b[33m'\u001b[39m\u001b[33mbold\u001b[39m\u001b[33m'\u001b[39m)\n\u001b[32m---> \u001b[39m\u001b[32m16\u001b[39m Ws = \u001b[43mtrained_net\u001b[49m\u001b[43m[\u001b[49m\u001b[33;43m'\u001b[39;49m\u001b[33;43mW\u001b[39;49m\u001b[33;43m'\u001b[39;49m\u001b[43m]\u001b[49m\u001b[43m.\u001b[49m\u001b[43mT\u001b[49m.reshape((\u001b[32m32\u001b[39m, \u001b[32m32\u001b[39m, \u001b[32m3\u001b[39m, \u001b[32m10\u001b[39m), order=\u001b[33m'\u001b[39m\u001b[33mF\u001b[39m\u001b[33m'\u001b[39m)\n\u001b[32m     17\u001b[39m W_im = np.transpose(Ws, (\u001b[32m1\u001b[39m, \u001b[32m0\u001b[39m, \u001b[32m2\u001b[39m, \u001b[32m3\u001b[39m))\n\u001b[32m     19\u001b[39m \u001b[38;5;28;01mfor\u001b[39;00m i \u001b[38;5;129;01min\u001b[39;00m \u001b[38;5;28mrange\u001b[39m(\u001b[32m10\u001b[39m):\n",
      "\u001b[31mAttributeError\u001b[39m: 'list' object has no attribute 'T'"
     ]
    },
    {
     "data": {
      "text/plain": [
       "<Figure size 2000x400 with 0 Axes>"
      ]
     },
     "metadata": {},
     "output_type": "display_data"
    }
   ],
   "source": [
    "def visualize_W_matrix(trained_net, class_names, save_path=\"../results/images/W_matrix.png\"):\n",
    "    \"\"\"\n",
    "    Visualizes the learnt W matrix as class template images.\n",
    "\n",
    "    Parameters:\n",
    "        trained_net : dict\n",
    "            Dictionary containing the trained network parameters.\n",
    "        class_names : list\n",
    "            List of class names corresponding to the CIFAR-10 dataset.\n",
    "        save_path : str\n",
    "            Path to save the visualized W matrix image.\n",
    "    \"\"\"\n",
    "    plt.figure(figsize=(20, 4))  # Increase the figure size\n",
    "    plt.suptitle(\"The learnt W matrix visualized as class template images.\", fontsize=16, fontweight='bold')\n",
    "\n",
    "    Ws = trained_net['W'].T.reshape((32, 32, 3, 10), order='F')\n",
    "    W_im = np.transpose(Ws, (1, 0, 2, 3))\n",
    "\n",
    "    for i in range(10):\n",
    "        w_im = W_im[:, :, :, i]\n",
    "        w_im_norm = (w_im - np.min(w_im)) / (np.max(w_im) - np.min(w_im))\n",
    "        plt.subplot(1, 10, i + 1)\n",
    "        plt.imshow(w_im_norm, interpolation='nearest')\n",
    "        plt.axis('off')\n",
    "        plt.title(class_names[i], fontsize=15, fontweight='bold')\n",
    "\n",
    "    plt.tight_layout(rect=[0, 0, 1, 0.9])  # Adjust layout to fit the title\n",
    "    plt.savefig(save_path)\n",
    "    print(f\"Visualization saved to {save_path}\")\n",
    "\n",
    "# Run the function\n",
    "class_names = [\n",
    "    'airplane', 'automobile', 'bird', 'cat', 'deer',\n",
    "    'dog', 'frog', 'horse', 'ship', 'truck'\n",
    "]\n",
    "visualize_W_matrix(overfitted_net, class_names)\n"
   ]
  },
  {
   "cell_type": "code",
   "execution_count": null,
   "metadata": {},
   "outputs": [],
   "source": []
  }
 ],
 "metadata": {
  "kernelspec": {
   "display_name": "deep-learn",
   "language": "python",
   "name": "python3"
  },
  "language_info": {
   "codemirror_mode": {
    "name": "ipython",
    "version": 3
   },
   "file_extension": ".py",
   "mimetype": "text/x-python",
   "name": "python",
   "nbconvert_exporter": "python",
   "pygments_lexer": "ipython3",
   "version": "3.11.11"
  }
 },
 "nbformat": 4,
 "nbformat_minor": 2
}
