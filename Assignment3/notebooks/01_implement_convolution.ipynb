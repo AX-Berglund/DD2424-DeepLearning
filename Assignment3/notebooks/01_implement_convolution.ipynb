{
 "cells": [
  {
   "cell_type": "markdown",
   "metadata": {
    "vscode": {
     "languageId": "plaintext"
    }
   },
   "source": [
    "# Exercise 1: Write code to implement the convolution efficiently\n"
   ]
  },
  {
   "cell_type": "markdown",
   "metadata": {},
   "source": [
    "### Big Picture\n",
    "Imagine you have a collection of photos, and you want to find specific patterns in them - like edges, textures, or simple shapes. This notebook shows three different ways to do this \"pattern finding\" (convolution), kind of like having three different tools to search for hidden patterns in pictures."
   ]
  },
  {
   "cell_type": "code",
   "execution_count": 4,
   "metadata": {},
   "outputs": [],
   "source": [
    "import numpy as np\n",
    "import time\n"
   ]
  },
  {
   "cell_type": "code",
   "execution_count": 5,
   "metadata": {},
   "outputs": [],
   "source": [
    "\n",
    "# Load debugging data\n",
    "debug_file = '../data/debug_info.npz'\n",
    "load_data = np.load(debug_file)\n"
   ]
  },
  {
   "cell_type": "code",
   "execution_count": 6,
   "metadata": {},
   "outputs": [],
   "source": [
    "# Extract data\n",
    "X = load_data['X']  # shape: 3072 × n with n = 5\n",
    "Fs = load_data['Fs']  # shape: f × f × 3 × nf, with f = 4, nf = 2"
   ]
  },
  {
   "cell_type": "code",
   "execution_count": 7,
   "metadata": {},
   "outputs": [],
   "source": [
    "# Get dimensions\n",
    "f = Fs.shape[0]  # filter size\n",
    "nf = Fs.shape[3]  # number of filters\n",
    "n = X.shape[1]  # number of images\n",
    "n_p = (32 // f) ** 2  # number of patches per image\n",
    "\n",
    "# Reshape and transpose X to get images in the right format\n",
    "X_ims = np.transpose(X.reshape((32, 32, 3, n), order='F'), (1, 0, 2, 3))\n"
   ]
  },
  {
   "cell_type": "code",
   "execution_count": 8,
   "metadata": {},
   "outputs": [
    {
     "name": "stdout",
     "output_type": "stream",
     "text": [
      "f: 4\n",
      "nf: 2\n",
      "n: 5\n",
      "n_p: 64\n",
      "X shape: (3072, 5)\n",
      "Fs shape: (4, 4, 3, 2)\n",
      "X_ims shape: (32, 32, 3, 5)\n"
     ]
    }
   ],
   "source": [
    "# Print shapes of all arrays and values\n",
    "print(\"f:\", f)\n",
    "print(\"nf:\", nf)\n",
    "print(\"n:\", n)\n",
    "print(\"n_p:\", n_p)\n",
    "print(\"X shape:\", X.shape)\n",
    "print(\"Fs shape:\", Fs.shape) \n",
    "print(\"X_ims shape:\", X_ims.shape)\n"
   ]
  },
  {
   "cell_type": "code",
   "execution_count": 9,
   "metadata": {},
   "outputs": [],
   "source": [
    "conv_outputs = np.zeros((n_p, nf, n))\n",
    "\n",
    "# Loop through each image\n",
    "for i in range(n):\n",
    "    # Loop through each filter\n",
    "    for j in range(nf):\n",
    "        patch_idx = 0\n",
    "        # Loop through patches in the image\n",
    "        for h in range(0, 32, f):\n",
    "            for w in range(0, 32, f):\n",
    "                # Extract patch\n",
    "                patch = X_ims[h:h+f, w:w+f, :, i]\n",
    "                # Get filter\n",
    "                filter = Fs[:, :, :, j]\n",
    "                # Compute dot product\n",
    "                result = np.multiply(patch, filter).sum()\n",
    "                conv_outputs[patch_idx, j, i] = result\n",
    "                patch_idx += 1"
   ]
  },
  {
   "cell_type": "code",
   "execution_count": 10,
   "metadata": {},
   "outputs": [],
   "source": [
    "conv_outputs_reshaped = conv_outputs.reshape((8, 8, nf, n))\n"
   ]
  },
  {
   "cell_type": "code",
   "execution_count": 11,
   "metadata": {},
   "outputs": [
    {
     "name": "stdout",
     "output_type": "stream",
     "text": [
      "Max difference: 0.0\n"
     ]
    }
   ],
   "source": [
    "\n",
    "# Compare with provided outputs\n",
    "expected_outputs = load_data['conv_outputs']\n",
    "print(\"Max difference:\", np.abs(conv_outputs_reshaped - expected_outputs).max())"
   ]
  },
  {
   "cell_type": "markdown",
   "metadata": {},
   "source": [
    "## Step 2 - Matrix Multiplication"
   ]
  },
  {
   "cell_type": "code",
   "execution_count": 12,
   "metadata": {},
   "outputs": [
    {
     "name": "stdout",
     "output_type": "stream",
     "text": [
      "Max difference between dot product and matrix multiplication versions: 1.7763568394002505e-15\n",
      "Max difference with reference output: 1.7763568394002505e-15\n"
     ]
    }
   ],
   "source": [
    "# Initialize MX matrix of shape (n_p, f * f * 3, n)\n",
    "MX = np.zeros((n_p, f * f * 3, n))\n",
    "\n",
    "# Fill MX with patches\n",
    "for i in range(n):\n",
    "    patch_idx = 0\n",
    "    for h in range(0, 32, f):\n",
    "        for w in range(0, 32, f):\n",
    "            # Extract patch and reshape it to a row vector\n",
    "            patch = X_ims[h:h+f, w:w+f, :, i]\n",
    "            MX[patch_idx, :, i] = patch.reshape((1, f * f * 3), order='C')\n",
    "            patch_idx += 1\n",
    "\n",
    "# Flatten the filters\n",
    "Fs_flat = Fs.reshape((f * f * 3, nf), order='C')\n",
    "\n",
    "# Initialize output array for matrix multiplication version\n",
    "conv_outputs_mat = np.zeros((n_p, nf, n))\n",
    "\n",
    "# Compute convolution using matrix multiplication\n",
    "for i in range(n):\n",
    "    conv_outputs_mat[:, :, i] = np.matmul(MX[:, :, i], Fs_flat)\n",
    "\n",
    "# Compare with previous output\n",
    "print(\"Max difference between dot product and matrix multiplication versions:\", \n",
    "      np.abs(conv_outputs - conv_outputs_mat).max())\n",
    "\n",
    "# Compare with the provided reference output\n",
    "conv_outputs_flat = conv_outputs.reshape((n_p, nf, n), order='C')\n",
    "print(\"Max difference with reference output:\", \n",
    "      np.abs(conv_outputs_mat - conv_outputs_flat).max())"
   ]
  },
  {
   "cell_type": "code",
   "execution_count": null,
   "metadata": {},
   "outputs": [],
   "source": []
  },
  {
   "cell_type": "markdown",
   "metadata": {},
   "source": [
    "## Step 3 - Einstein Summation"
   ]
  },
  {
   "cell_type": "code",
   "execution_count": 13,
   "metadata": {},
   "outputs": [
    {
     "name": "stdout",
     "output_type": "stream",
     "text": [
      "Max difference between matrix multiplication and einsum versions: 0.0\n",
      "Max difference between einsum and reference output: 1.7763568394002505e-15\n"
     ]
    }
   ],
   "source": [
    "# Compute convolution using einsum\n",
    "conv_outputs_einsum = np.einsum('ijn,jl->iln', MX, Fs_flat, optimize=True)\n",
    "\n",
    "# Compare with matrix multiplication version\n",
    "print(\"Max difference between matrix multiplication and einsum versions:\", \n",
    "      np.abs(conv_outputs_mat - conv_outputs_einsum).max())\n",
    "\n",
    "# Compare with the provided reference output\n",
    "print(\"Max difference between einsum and reference output:\", \n",
    "      np.abs(conv_outputs_einsum - conv_outputs_flat).max())"
   ]
  },
  {
   "cell_type": "markdown",
   "metadata": {},
   "source": [
    "## To compare which is fastest"
   ]
  },
  {
   "cell_type": "code",
   "execution_count": 14,
   "metadata": {},
   "outputs": [],
   "source": [
    "def time_method(method, runs=5):\n",
    "    times = []\n",
    "    for _ in range(runs):\n",
    "        start = time.time()\n",
    "        if method == \"dot\":\n",
    "            # Dot product version\n",
    "            conv_out = np.zeros((n_p, nf, n))\n",
    "            for i in range(n):\n",
    "                for j in range(nf):\n",
    "                    patch_idx = 0\n",
    "                    for h in range(0, 32, f):\n",
    "                        for w in range(0, 32, f):\n",
    "                            patch = X_ims[h:h+f, w:w+f, :, i]\n",
    "                            filter = Fs[:, :, :, j]\n",
    "                            conv_out[patch_idx, j, i] = np.multiply(patch, filter).sum()\n",
    "                            patch_idx += 1\n",
    "        elif method == \"matmul\":\n",
    "            # Matrix multiplication version\n",
    "            conv_out = np.zeros((n_p, nf, n))\n",
    "            for i in range(n):\n",
    "                conv_out[:, :, i] = np.matmul(MX[:, :, i], Fs_flat)\n",
    "        else:\n",
    "            # Einsum version\n",
    "            conv_out = np.einsum('ijn,jl->iln', MX, Fs_flat, optimize=True)\n",
    "        times.append(time.time() - start)\n",
    "    return np.mean(times), np.std(times)\n"
   ]
  },
  {
   "cell_type": "code",
   "execution_count": 15,
   "metadata": {},
   "outputs": [
    {
     "name": "stdout",
     "output_type": "stream",
     "text": [
      "dot method: 1.8545e-02s ± 1.78e-02s\n",
      "matmul method: 2.4986e-05s ± 5.23e-06s\n",
      "einsum method: 9.5558e-05s ± 5.06e-05s\n"
     ]
    }
   ],
   "source": [
    "\n",
    "methods = [\"dot\", \"matmul\", \"einsum\"]\n",
    "for method in methods:\n",
    "    mean_time, std_time = time_method(method)\n",
    "    print(f\"{method} method: {mean_time:.4e}s ± {std_time:.2e}s\")"
   ]
  },
  {
   "cell_type": "markdown",
   "metadata": {},
   "source": [
    "## Conclusion\n",
    "It is well known that the einsum is much faster. It cannot be seen in this example, since we only work with 5 images. But it should be known that when using many images, einsum tends to be much faster."
   ]
  },
  {
   "cell_type": "markdown",
   "metadata": {},
   "source": []
  }
 ],
 "metadata": {
  "kernelspec": {
   "display_name": "skynet",
   "language": "python",
   "name": "python3"
  },
  "language_info": {
   "codemirror_mode": {
    "name": "ipython",
    "version": 3
   },
   "file_extension": ".py",
   "mimetype": "text/x-python",
   "name": "python",
   "nbconvert_exporter": "python",
   "pygments_lexer": "ipython3",
   "version": "3.13.3"
  }
 },
 "nbformat": 4,
 "nbformat_minor": 2
}
